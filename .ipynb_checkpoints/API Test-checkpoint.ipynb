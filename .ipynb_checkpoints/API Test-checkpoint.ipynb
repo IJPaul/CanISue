{
 "cells": [
  {
   "cell_type": "markdown",
   "metadata": {},
   "source": [
    "***Follow these instructions to set env variables. Only run once***\n",
    "\n",
    "Sign up here: https://case.law/user/register/\n",
    "\n",
    "Click Account, get your API key.\n",
    "\n",
    "Open terminal\n",
    "\n",
    "vim ~/.bash_profile\n",
    "\n",
    "press i to enter insert mode\n",
    "\n",
    "go to the bottom of the file and add these three lines:\n",
    "\n",
    "export CASELAW_APIKEY = 'your_api_key'\n",
    "\n",
    "press escape and the type ':wq!' to save and exit\n",
    "\n",
    "run source ~/.bash_profile to update your environment\n",
    "\n",
    "You will need to shut down the jupyter notebook and restart your terminal to see the effects."
   ]
  },
  {
   "cell_type": "code",
   "execution_count": 1,
   "metadata": {},
   "outputs": [],
   "source": [
    "import requests\n",
    "import os\n",
    "import utils\n",
    "from nltk.sentiment.vader import SentimentIntensityAnalyzer"
   ]
  },
  {
   "cell_type": "code",
   "execution_count": 2,
   "metadata": {},
   "outputs": [],
   "source": [
    "from sklearn.feature_extraction.text import TfidfVectorizer\n",
    "from sklearn.feature_extraction.text import CountVectorizer\n",
    "import pandas\n",
    "import numpy as np\n",
    "from sklearn.metrics.pairwise import cosine_similarity\n"
   ]
  },
  {
   "cell_type": "code",
   "execution_count": 3,
   "metadata": {},
   "outputs": [],
   "source": [
    "#IMPORTANT: need to authenticate every single request, save the api key to bash profile\n",
    "test_case_response = requests.get(\n",
    "    'https://api.case.law/v1/cases/4194497/?full_case=true',\n",
    "    headers={'Authorization': 'Token ' + os.environ['CASELAW_APIKEY']}\n",
    ")"
   ]
  },
  {
   "cell_type": "code",
   "execution_count": 4,
   "metadata": {},
   "outputs": [],
   "source": [
    "#utils.get_request_caselaw('https://api.case.law/v1/cases/4194497/?full_case=true').json()\n",
    "\n",
    "query_results = utils.get_request_caselaw('https://api.case.law/v1/cases/?search=\"neighbor property\"').json()\n",
    "text_retrieval = list()\n",
    "for result in query_results['results']:\n",
    "    caseid = result['id']\n",
    "    caseresult = utils.get_request_caselaw('https://api.case.law/v1/cases/' + str(caseid) + '/?full_case=true').json()\n",
    "    opinions = caseresult['casebody']['data']['opinions']\n",
    "    text = caseresult['name'] + '\\n'\n",
    "    for opinion in opinions:\n",
    "        text = text + opinion['text'] + '\\n'\n",
    "    text_retrieval.append(text)"
   ]
  },
  {
   "cell_type": "code",
   "execution_count": 7,
   "metadata": {},
   "outputs": [
    {
     "name": "stdout",
     "output_type": "stream",
     "text": [
      "[ 3  4  1 ...  0  0 15]\n",
      "302.0\n",
      "[ 0  2  0 ...  1  2 35]\n",
      "881.0\n",
      "[0 0 0 ... 1 0 0]\n",
      "282.0\n",
      "[ 4  6  1 ...  0  2 18]\n",
      "1021.0\n"
     ]
    }
   ],
   "source": [
    "# sid = SentimentIntensityAnalyzer()\n",
    "# sid.polarity_scores(text_retrieval[0])\n",
    "# query_results['results'][0]\n",
    "\n",
    "query = 'neighboring property'\n",
    "# vec = TfidfVectorizer(strip_accents = 'unicode', analyzer = 'word', min_df = 0.35, max_df = .95)\n",
    "vec = CountVectorizer(strip_accents = 'unicode', analyzer = 'word', min_df = .35, max_df = .95)\n",
    "tfidf = vec.fit_transform(text_retrieval)\n",
    "tokens = vec.get_feature_names()\n",
    "features = pandas.DataFrame(data = tfidf.toarray(), index = range(len(text_retrieval)), columns = tokens)\n",
    "tokenizer = vec.build_tokenizer()\n",
    "inverted_index = dict()\n",
    "for i in range(len(tokens)):\n",
    "#     print(tokens[i])\n",
    "    inverted_index.update({tokens[i] : i})\n",
    "        \n",
    "query_vector = np.zeros(len(tokens))\n",
    "for token in tokenizer(query):\n",
    "    idx = inverted_index.get(token)\n",
    "    if idx != None:\n",
    "        query_vector[idx] += 1\n",
    "for row in features.iterrows():\n",
    "    print(np.array(row[1]))\n",
    "    print(sum(sum(cosine_similarity(query_vector.reshape(-1, 1), np.array(row[1]).reshape(-1, 1)))))\n",
    "# query_results['results'][3]"
   ]
  },
  {
   "cell_type": "code",
   "execution_count": null,
   "metadata": {},
   "outputs": [],
   "source": [
    "# ids, titles = [], []\n",
    "# current = cases.json()\n",
    "# i = 0\n",
    "# while current['next'] != None and i < 100:\n",
    "#     #print(i)\n",
    "#     for case in current['results']:\n",
    "#         ids.append(case['id'])\n",
    "#         titles.append(case['name'])\n",
    "#     current = requests.get(url = current['next']).json()\n",
    "#     i += 1"
   ]
  },
  {
   "cell_type": "code",
   "execution_count": 25,
   "metadata": {},
   "outputs": [],
   "source": [
    "case_results_json = utils.get_request_caselaw('https://api.case.law/v1/cases/?search=\"civil court\"&full_case=true').json()"
   ]
  },
  {
   "cell_type": "code",
   "execution_count": 26,
   "metadata": {},
   "outputs": [],
   "source": [
    "import json"
   ]
  },
  {
   "cell_type": "code",
   "execution_count": 28,
   "metadata": {},
   "outputs": [
    {
     "name": "stdout",
     "output_type": "stream",
     "text": [
      "{\n",
      "    \"casebody\": {\n",
      "        \"data\": {\n",
      "            \"attorneys\": [\n",
      "                \"Harold Sheats, Martin H. Peabody, for plaintiff in error.\",\n",
      "                \"Wilson, Branch ,& Barwick, M. Cook Barwick, Thomas S. Bentley, contra.\"\n",
      "            ],\n",
      "            \"corrections\": \"\",\n",
      "            \"head_matter\": \"38245.\\nFULTON COUNTY CIVIL COURT v. ELZEY.\\nDecided April 14, 1960.\\nHarold Sheats, Martin H. Peabody, for plaintiff in error.\\nWilson, Branch ,& Barwick, M. Cook Barwick, Thomas S. Bentley, contra.\",\n",
      "            \"judges\": [\n",
      "                \"Townsend, Carlisle, 'and Frankum, JJ., concur.\"\n",
      "            ],\n",
      "            \"opinions\": [\n",
      "                {\n",
      "                    \"author\": \"Gardner, Presiding Judge.\",\n",
      "                    \"text\": \"Gardner, Presiding Judge.\\nThis court has, on innumerable occasions, held that where an employee is injured in the scope of his employment and the evidence before the State Board of Workmen\\u2019s Compensation reflects that such was the case, an appellate court will not reverse such finding upon appeal through the proper channels.\\nCounsel for the employer contends that this case should fall within that line of cases which holds that, if an employee is upon a completely personal errand at the time of an injury or death, the employer is not liable for the results of such injury or death. Counsel for the employer cites a number of cases supporting this contention. We thoroughly agree that this is a true statement of the law, but we cannot agree that that line of cases is authority in the case at bar. Here there is ample evidence that the deceased and his partner were upon the employer\\u2019s business at the time of the injury which resulted in the death of the deceased. The case at bar is different from that line of cases where a definite lunch period is set aside for employes, during which time they are free to go where they please and do what they please, subject to no orders from their employers. The evidence in the instant case shows that the deceased and his partner would frequently buy sandwiches and one would drive while the other one ate. There is sufficient evidence here to show that the deceased did not deviate from the duties of his employment but as a matter of fact he had left the restaurant and was walking toward the courthouse to turn in papers upon which processes had been served, when he was hit. Certainly it cannot be considered that the deceased was not within the course of his employment and was not acting within the scope of his employment at the time he was hit by a car in the street immediately adjoining the courthouse. The deceased and his partner were going to the courthouse to complete their day\\u2019s work. In London Guarantee &c. Co. v. Herndon, 81 Ga. App. 178 (58 S. E. 2d 510), the facts show that an employee was driving toward his home to fill out reports and complete his day\\u2019s woi\\u2019k, that he detoured and proceeded down the beach road for his personal pleasure, and that shortly thereafter he turned his car around and was proceeding back toward his home when the accident occurred. The court, quoting from Hartford Accident &c. Co. v. Welker, 75 Ga. App. 594 (44 S. E. 2d 160), held that our law does not require that an employee be restricted only to the business of the employer at the time of an injury, and moreover held that the instant the employee stopped his automobile and attempted to turn back he again resumed his duties of employment and was so engaged when he met his death. The test of whether or not an employee is within the scope of his employment at a certain time and place is (as has been held in innumerable decisions of the appel late courts), \\u201cWhere the employee breaks the continuity of his employment for purposes of his own and is injured before he brings himself back into the line of employment, his injury does not arise out of or in the course of his employment, but where the personal mission has been accomplished and the' employee is once more engaged in the duties of his employment, the injury arises out of and in the course of employment.\\u201d General Accident, Fire &c. Corp. v. Prescott, 80 Ga. App. 421 (56 S. E. 2d 137). In General Accident, Fire &c. Corp. v. Worley, 86 Ga. App. 794 (72 S. E. 2d 560), this court stated: \\u201cWhen injuries are sustained by employees who are not at the moment actually engaged in doing the work they have been hired to do, during [the] time for which compensation is paid them, but who are performing acts preparatory to entering or leaving their employment, or other incidental acts within the period of their employment but not strictly in furtherance of it, it becomes ordinarily a question of fact as to whether the requirements of the Workmen\\u2019s Compensation Law have been met, and the burden is upon the claimant to meet these requirements . . . Ordinarily, whether or not the accident arose out of and in the course of the employment is a question of fact, and the award of the board, if supported by any evidence, is conclusive.\\u201d There are many other cases cited to the same effect.\\nIt has been many times held that where the findings of the State Board of Workmen\\u2019s Compenstion are supported by any evidence it is mandatory on this court to approve such findings of fact and award.\\nThe hearing director of the State Board of Workmen\\u2019s Compensation awarded the widow of the deceased $25.50 per week for a period of 400 weeks and $350 for funeral expenses. This award was affirmed by the Superior Court of Fulton County and since the findings of fact and award of the State Board of Workmen\\u2019s Compensation is supported by sufficient facts, this court will not disturb them but will, on the contrary, affirm such findings of fact and award.\\nJudgment affirmed.\\nTownsend, Carlisle, 'and Frankum, JJ., concur.\",\n",
      "                    \"type\": \"majority\"\n",
      "                }\n",
      "            ]\n",
      "        },\n",
      "        \"status\": \"ok\"\n",
      "    },\n",
      "    \"citations\": [\n",
      "        {\n",
      "            \"cite\": \"101 Ga. App. 520\",\n",
      "            \"type\": \"official\"\n",
      "        }\n",
      "    ],\n",
      "    \"cites_to\": [\n",
      "        {\n",
      "            \"cite\": \"75 Ga. App. 594\"\n",
      "        },\n",
      "        {\n",
      "            \"cite\": \"80 Ga. App. 421\"\n",
      "        },\n",
      "        {\n",
      "            \"cite\": \"72 S. E. 2d 560\"\n",
      "        },\n",
      "        {\n",
      "            \"cite\": \"56 S. E. 2d 137\"\n",
      "        },\n",
      "        {\n",
      "            \"cite\": \"86 Ga. App. 794\"\n",
      "        },\n",
      "        {\n",
      "            \"cite\": \"44 S. E. 2d 160\"\n",
      "        },\n",
      "        {\n",
      "            \"cite\": \"58 S. E. 2d 510\"\n",
      "        },\n",
      "        {\n",
      "            \"cite\": \"81 Ga. App. 178\"\n",
      "        }\n",
      "    ],\n",
      "    \"court\": {\n",
      "        \"id\": 8892,\n",
      "        \"name\": \"Court of Appeals of Georgia\",\n",
      "        \"name_abbreviation\": \"Ga. Ct. App.\",\n",
      "        \"slug\": \"ga-ct-app\",\n",
      "        \"url\": \"https://api.case.law/v1/courts/ga-ct-app/\"\n",
      "    },\n",
      "    \"decision_date\": \"1960-04-14\",\n",
      "    \"docket_number\": \"38245\",\n",
      "    \"first_page\": \"520\",\n",
      "    \"frontend_url\": \"https://cite.case.law/ga-app/101/520/\",\n",
      "    \"id\": 1589229,\n",
      "    \"jurisdiction\": {\n",
      "        \"id\": 3,\n",
      "        \"name\": \"Ga.\",\n",
      "        \"name_long\": \"Georgia\",\n",
      "        \"slug\": \"ga\",\n",
      "        \"url\": \"https://api.case.law/v1/jurisdictions/ga/\",\n",
      "        \"whitelisted\": false\n",
      "    },\n",
      "    \"last_page\": \"523\",\n",
      "    \"name\": \"FULTON COUNTY CIVIL COURT v. ELZEY\",\n",
      "    \"name_abbreviation\": \"Fulton County Civil Court v. Elzey\",\n",
      "    \"preview\": [],\n",
      "    \"reporter\": {\n",
      "        \"full_name\": \"Georgia Appeals Reports\",\n",
      "        \"id\": 519,\n",
      "        \"url\": \"https://api.case.law/v1/reporters/519/\"\n",
      "    },\n",
      "    \"url\": \"https://api.case.law/v1/cases/1589229/\",\n",
      "    \"volume\": {\n",
      "        \"barcode\": \"32044078445228\",\n",
      "        \"url\": \"https://api.case.law/v1/volumes/32044078445228/\",\n",
      "        \"volume_number\": \"101\"\n",
      "    }\n",
      "}\n"
     ]
    }
   ],
   "source": [
    "i = 0\n",
    "for case in case_results_json['results']:\n",
    "    print(json.dumps(case, indent=4, sort_keys=True))\n",
    "    if i > 5:\n",
    "      break\n",
    "  "
   ]
  },
  {
   "cell_type": "code",
   "execution_count": null,
   "metadata": {},
   "outputs": [],
   "source": []
  }
 ],
 "metadata": {
  "kernelspec": {
   "display_name": "Python 3",
   "language": "python",
   "name": "python3"
  },
  "language_info": {
   "codemirror_mode": {
    "name": "ipython",
    "version": 3
   },
   "file_extension": ".py",
   "mimetype": "text/x-python",
   "name": "python",
   "nbconvert_exporter": "python",
   "pygments_lexer": "ipython3",
   "version": "3.8.2"
  }
 },
 "nbformat": 4,
 "nbformat_minor": 2
}
