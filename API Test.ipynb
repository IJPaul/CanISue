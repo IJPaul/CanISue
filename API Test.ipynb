{
 "cells": [
  {
   "cell_type": "markdown",
   "metadata": {},
   "source": [
    "***Follow these instructions to set env variables. Only run once***\n",
    "\n",
    "Sign up here: https://case.law/user/register/\n",
    "\n",
    "Click Account, get your API key.\n",
    "\n",
    "Open terminal\n",
    "\n",
    "vim ~/.bash_profile\n",
    "\n",
    "press i to enter insert mode\n",
    "\n",
    "go to the bottom of the file and add these three lines:\n",
    "\n",
    "export CASELAW_APIKEY = 'your_api_key'\n",
    "\n",
    "press escape and the type ':wq!' to save and exit\n",
    "\n",
    "run source ~/.bash_profile to update your environment\n",
    "\n",
    "You will need to shut down the jupyter notebook and restart your terminal to see the effects."
   ]
  },
  {
   "cell_type": "code",
   "execution_count": 1,
   "metadata": {},
   "outputs": [],
   "source": [
    "import requests\n",
    "import os\n",
    "import utils\n",
    "from nltk.sentiment.vader import SentimentIntensityAnalyzer"
   ]
  },
  {
   "cell_type": "code",
   "execution_count": 2,
   "metadata": {},
   "outputs": [],
   "source": [
    "from sklearn.feature_extraction.text import TfidfVectorizer\n",
    "from sklearn.feature_extraction.text import CountVectorizer\n",
    "import pandas\n",
    "import numpy as np\n",
    "from sklearn.metrics.pairwise import cosine_similarity\n"
   ]
  },
  {
   "cell_type": "code",
   "execution_count": 3,
   "metadata": {},
   "outputs": [],
   "source": [
    "#IMPORTANT: need to authenticate every single request, save the api key to bash profile\n",
    "test_case_response = requests.get(\n",
    "    'https://api.case.law/v1/cases/4194497/?full_case=true',\n",
    "    headers={'Authorization': 'Token ' + os.environ['CASELAW_APIKEY']}\n",
    ")"
   ]
  },
  {
   "cell_type": "code",
   "execution_count": 4,
   "metadata": {},
   "outputs": [],
   "source": [
    "#utils.get_request_caselaw('https://api.case.law/v1/cases/4194497/?full_case=true').json()\n",
    "\n",
    "query_results = utils.get_request_caselaw('https://api.case.law/v1/cases/?search=\"neighbor property\"').json()\n",
    "text_retrieval = list()\n",
    "for result in query_results['results']:\n",
    "    caseid = result['id']\n",
    "    caseresult = utils.get_request_caselaw('https://api.case.law/v1/cases/' + str(caseid) + '/?full_case=true').json()\n",
    "    opinions = caseresult['casebody']['data']['opinions']\n",
    "    text = caseresult['name'] + '\\n'\n",
    "    for opinion in opinions:\n",
    "        text = text + opinion['text'] + '\\n'\n",
    "    text_retrieval.append(text)"
   ]
  },
  {
   "cell_type": "code",
   "execution_count": 7,
   "metadata": {},
   "outputs": [
    {
     "name": "stdout",
     "output_type": "stream",
     "text": [
      "[ 3  4  1 ...  0  0 15]\n",
      "302.0\n",
      "[ 0  2  0 ...  1  2 35]\n",
      "881.0\n",
      "[0 0 0 ... 1 0 0]\n",
      "282.0\n",
      "[ 4  6  1 ...  0  2 18]\n",
      "1021.0\n"
     ]
    }
   ],
   "source": [
    "# sid = SentimentIntensityAnalyzer()\n",
    "# sid.polarity_scores(text_retrieval[0])\n",
    "# query_results['results'][0]\n",
    "\n",
    "query = 'neighboring property'\n",
    "# vec = TfidfVectorizer(strip_accents = 'unicode', analyzer = 'word', min_df = 0.35, max_df = .95)\n",
    "vec = CountVectorizer(strip_accents = 'unicode', analyzer = 'word', min_df = .35, max_df = .95)\n",
    "tfidf = vec.fit_transform(text_retrieval)\n",
    "tokens = vec.get_feature_names()\n",
    "features = pandas.DataFrame(data = tfidf.toarray(), index = range(len(text_retrieval)), columns = tokens)\n",
    "tokenizer = vec.build_tokenizer()\n",
    "inverted_index = dict()\n",
    "for i in range(len(tokens)):\n",
    "#     print(tokens[i])\n",
    "    inverted_index.update({tokens[i] : i})\n",
    "        \n",
    "query_vector = np.zeros(len(tokens))\n",
    "for token in tokenizer(query):\n",
    "    idx = inverted_index.get(token)\n",
    "    if idx != None:\n",
    "        query_vector[idx] += 1\n",
    "for row in features.iterrows():\n",
    "    print(np.array(row[1]))\n",
    "    print(sum(sum(cosine_similarity(query_vector.reshape(-1, 1), np.array(row[1]).reshape(-1, 1)))))\n",
    "# query_results['results'][3]"
   ]
  },
  {
   "cell_type": "code",
   "execution_count": null,
   "metadata": {},
   "outputs": [],
   "source": [
    "# ids, titles = [], []\n",
    "# current = cases.json()\n",
    "# i = 0\n",
    "# while current['next'] != None and i < 100:\n",
    "#     #print(i)\n",
    "#     for case in current['results']:\n",
    "#         ids.append(case['id'])\n",
    "#         titles.append(case['name'])\n",
    "#     current = requests.get(url = current['next']).json()\n",
    "#     i += 1"
   ]
  },
  {
   "cell_type": "code",
   "execution_count": 25,
   "metadata": {},
   "outputs": [],
   "source": [
    "case_results_json = utils.get_request_caselaw('https://api.case.law/v1/cases/?search=\"civil court\"&full_case=true').json()"
   ]
  },
  {
   "cell_type": "code",
   "execution_count": 26,
   "metadata": {},
   "outputs": [],
   "source": [
    "import json"
   ]
  },
  {
   "cell_type": "code",
   "execution_count": 31,
   "metadata": {},
   "outputs": [
    {
     "name": "stdout",
     "output_type": "stream",
     "text": [
      "<class 'str'>\n",
      "<class 'str'>\n",
      "<class 'str'>\n",
      "<class 'str'>\n",
      "<class 'str'>\n",
      "<class 'str'>\n",
      "<class 'str'>\n"
     ]
    }
   ],
   "source": [
    "i = 0\n",
    "for case in case_results_json['results']:\n",
    "    formatted_json = json.dumps(case, indent=4, sort_keys=True) # type 'str'\n",
    "    print(formatedd_json)\n",
    "    if i > 5:\n",
    "        break\n",
    "    i = i + 1"
   ]
  },
  {
   "cell_type": "code",
   "execution_count": null,
   "metadata": {},
   "outputs": [],
   "source": []
  }
 ],
 "metadata": {
  "kernelspec": {
   "display_name": "Python 3",
   "language": "python",
   "name": "python3"
  },
  "language_info": {
   "codemirror_mode": {
    "name": "ipython",
    "version": 3
   },
   "file_extension": ".py",
   "mimetype": "text/x-python",
   "name": "python",
   "nbconvert_exporter": "python",
   "pygments_lexer": "ipython3",
   "version": "3.8.2"
  }
 },
 "nbformat": 4,
 "nbformat_minor": 2
}
