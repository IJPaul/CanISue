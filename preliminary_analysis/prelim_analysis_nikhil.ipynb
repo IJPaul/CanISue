{
 "cells": [
  {
   "cell_type": "code",
   "execution_count": 1,
   "metadata": {},
   "outputs": [],
   "source": [
    "import json\n",
    "import re\n",
    "import numpy as np\n",
    "import pandas as pd\n",
    "import os\n",
    "from sklearn.feature_extraction.text import TfidfVectorizer, ENGLISH_STOP_WORDS\n",
    "from sklearn.metrics.pairwise import cosine_similarity\n",
    "from nltk import word_tokenize\n",
    "from nltk.stem.porter import PorterStemmer\n",
    "import string\n",
    "import matplotlib.pyplot as plt\n",
    "\n",
    "\n",
    "os.chdir(\"..\")\n",
    "import utils"
   ]
  },
  {
   "cell_type": "markdown",
   "metadata": {},
   "source": [
    "### Step 1: load cases"
   ]
  },
  {
   "cell_type": "code",
   "execution_count": 2,
   "metadata": {},
   "outputs": [],
   "source": [
    "QUERY = \"fence built on my property\""
   ]
  },
  {
   "cell_type": "code",
   "execution_count": 3,
   "metadata": {},
   "outputs": [],
   "source": [
    "file_name = \"data/output_{}.json\".format(QUERY.replace(\" \", \"-\"))\n",
    "\n",
    "if os.path.exists(file_name):\n",
    "    # load data\n",
    "    with open(file_name, 'r') as f:\n",
    "        cases = json.load(f)\n",
    "else:\n",
    "    # query data\n",
    "    response = utils.get_request_caselaw(\"https://api.case.law/v1/cases/?search='{}'&full_case=TRUE\".format(QUERY)).json()\n",
    "    cases = response['results']\n",
    "    \n",
    "    i = 1 # limit to 5 requests (500 cases) because that should be more than enough\n",
    "    while response['next'] and i < 5: \n",
    "        response = utils.get_request_caselaw(response['next']).json()\n",
    "        cases.extend(response['results'])\n",
    "        i += 1\n",
    "    \n",
    "    with open(file_name, 'w') as f:\n",
    "        json.dump(cases, f)"
   ]
  },
  {
   "cell_type": "markdown",
   "metadata": {},
   "source": [
    "Structure of `response` dict:\n",
    "```\n",
    "{  \n",
    "    \"count\"    : total number of matching cases  \n",
    "    \"next\"     : url to query for next 100 cases  \n",
    "    \"previous\" : url to query for previous 100 cases  \n",
    "    \"results\"  : [ (max length 100)\n",
    "        {\n",
    "            \"name\"          : **case name**\n",
    "            \"decision_date\" : case date\n",
    "            \"citations\"     : [\n",
    "                {\n",
    "                    \"cite\" : name of law\n",
    "                    \"type\" : ??\n",
    "                },\n",
    "                ...\n",
    "            ]\n",
    "            \"frontend_url\"  : clean look at case\n",
    "            \"casebody\"      : { (if full_case=FALSE, this field is not present)\n",
    "                \"status\" : should equal ok\n",
    "                \"data\"   : {\n",
    "                    \"opinions\"    : [ (for non-supreme court cases, just one opinion)\n",
    "                        {\n",
    "                            \"author\" : name of judge\n",
    "                            \"type\"   : indicates type of opinion (majority/dissent/etc)\n",
    "                            \"text\"   : opinion text\n",
    "                        },\n",
    "                        ...\n",
    "                    ]\n",
    "                    \"head_matter\" : **case description text**\n",
    "            }\n",
    "        },\n",
    "        ...\n",
    "    ]\n",
    "}\n",
    "```"
   ]
  },
  {
   "cell_type": "markdown",
   "metadata": {},
   "source": [
    "### Step 2: pre-processing"
   ]
  },
  {
   "cell_type": "code",
   "execution_count": 4,
   "metadata": {},
   "outputs": [],
   "source": [
    "for case in cases:\n",
    "    # get rid of non-ok cases\n",
    "    if case['casebody']['status'] != 'ok':\n",
    "        cases.remove(case)\n",
    "        continue"
   ]
  },
  {
   "cell_type": "code",
   "execution_count": 5,
   "metadata": {},
   "outputs": [],
   "source": [
    "# enforce case ordering\n",
    "case_names = [case['name'] for case in cases]\n",
    "\n",
    "case_texts = [case['casebody']['data']['head_matter'].replace(\"\\n\", \" \") for case in cases]\n",
    "    \n",
    "case_opinions = []\n",
    "for opinions in [case['casebody']['data']['opinions'] for case in cases]:\n",
    "    for opinion in opinions:\n",
    "        if opinion['type'] == \"majority\":\n",
    "            case_opinions.append(opinion['text'].replace(\"\\n\", \" \"))\n",
    "            break"
   ]
  },
  {
   "cell_type": "markdown",
   "metadata": {},
   "source": [
    "### Step 3: rank cases"
   ]
  },
  {
   "cell_type": "code",
   "execution_count": 6,
   "metadata": {
    "scrolled": true
   },
   "outputs": [
    {
     "name": "stdout",
     "output_type": "stream",
     "text": [
      "(stemmed) tokens considered by vectorizer:\n",
      "['000', '10', '100', '11', '12', '13', '14', '15', '150', '16', '17', '18', '1889', '19', '1907', '1st', '20', '21', '22', '23', '24', '25', '26', '27', '28', '29', '2d', '30', '31', '32', '33', '34', '35', '36', '37', '38', '39', '3d', '40', '41', '42', '43', '44', '45', '46', '50', '52', '54', '55', '57', '59', '60', '61', '63', '64', '66', '70', '78', '80', '81', '88', '91', '99', 'absence', 'accepted', 'accordance', 'according', 'account', 'acquiescence', 'acquired', 'acre', 'acres', 'act', 'acting', 'action', 'acts', 'actual', 'actually', 'addition', 'adjacent', 'adjoining', 'admissible', 'admission', 'admitted', 'adverse', 'affect', 'affirmed', 'aforesaid', 'agent', 'agree', 'agreed', 'agreement', 'al', 'alleged', 'alleges', 'allen', 'allow', 'allowed', 'animals', 'answer', 'app', 'appeal', 'appealed', 'appeals', 'appear', 'appeared', 'appears', 'appellant', 'appellants', 'appellate', 'appellee', 'appellees', 'application', 'applied', 'apply', 'april', 'argued', 'argument', 'ascertained', 'aside', 'asked', 'assigned', 'attorney', 'august', 'authorities', 'authority', 'authorized', 'away', 'bank', 'bar', 'based', 'beginning', 'behalf', 'believe', 'believed', 'belonged', 'belonging', 'benefit', 'better', 'block', 'board', 'bought', 'bound', 'boundaries', 'boundary', 'bounded', 'brief', 'bring', 'brings', 'brought', 'brown', 'build', 'building', 'buildings', 'built', 'burden', 'business', 'cal', 'called', 'came', 'care', 'case', 'cases', 'cattle', 'cause', 'caused', 'cent', 'certain', 'certainly', 'change', 'changed', 'character', 'charge', 'charged', 'charles', 'children', 'circuit', 'circumstances', 'cited', 'city', 'civ', 'civil', 'claim', 'claimed', 'claiming', 'claims', 'clark', 'clear', 'clearly', 'close', 'code', 'color', 'come', 'commenced', 'commencement', 'committed', 'common', 'company', 'competent', 'complained', 'complaint', 'conclusion', 'conclusive', 'condition', 'conditions', 'conduct', 'connection', 'consent', 'consequence', 'consideration', 'considered', 'constitute', 'constituted', 'constitutes', 'constructed', 'construction', 'construed', 'contained', 'containing', 'contended', 'continue', 'continued', 'continuous', 'continuously', 'contract', 'contrary', 'control', 'controversy', 'convey', 'conveyance', 'conveyances', 'conveyed', 'corner', 'corporation', 'correct', 'cost', 'costs', 'counsel', 'county', 'course', 'covenant', 'cross', 'cultivated', 'cultivation', 'cut', 'cutting', 'damage', 'damages', 'date', 'dated', 'davis', 'day', 'death', 'dec', 'deceased', 'december', 'decided', 'decision', 'declaration', 'declarations', 'declared', 'decree', 'dedicated', 'dedication', 'deed', 'deeds', 'deemed', 'defendant', 'defendants', 'defense', 'delivered', 'denied', 'denying', 'department', 'described', 'description', 'destroyed', 'determine', 'determined', 'determining', 'devise', 'devised', 'did', 'died', 'different', 'dig', 'direct', 'directed', 'direction', 'dispute', 'disputed', 'distance', 'district', 'divided', 'dividing', 'division', 'does', 'doing', 'dollars', 'doubt', 'duly', 'duty', 'dwelling', 'ease', 'easement', 'east', 'ed', 'effect', 'ejectment', 'enclosed', 'enclosure', 'end', 'enjoyment', 'enter', 'entered', 'entering', 'entire', 'entirely', 'entitled', 'entry', 'equally', 'equity', 'erect', 'erected', 'erecting', 'erection', 'erred', 'erroneous', 'error', 'errors', 'essential', 'establish', 'established', 'estate', 'estopped', 'estoppel', 'et', 'evidence', 'examination', 'examined', 'excepted', 'exception', 'exceptions', 'exclusive', 'executed', 'execution', 'exercise', 'existence', 'existing', 'expense', 'express', 'extended', 'extending', 'extent', 'fact', 'facts', 'failed', 'failure', 'faith', 'fall', 'family', 'far', 'farm', 'favor', 'february', 'fee', 'feet', 'fence', 'fenced', 'fences', 'fencing', 'field', 'filed', 'filing', 'finding', 'findings', 'fix', 'fixed', 'followed', 'following', 'follows', 'foot', 'force', 'form', 'forth', 'fourth', 'free', 'fully', 'gave', 'general', 'generally', 'george', 'given', 'giving', 'going', 'good', 'got', 'government', 'grant', 'granted', 'grantee', 'grantor', 'grantors', 'great', 'green', 'ground', 'grounds', 'guilty', 'half', 'harris', 'having', 'heard', 'hearing', 'heirs', 'held', 'henry', 'high', 'highway', 'highways', 'hill', 'hold', 'holding', 'home', 'homestead', 'hon', 'hostile', 'house', 'houses', 'husband', 'id', 'ii', 'ill', 'immaterial', 'immediately', 'improvements', 'inches', 'inclosed', 'inclosure', 'included', 'including', 'injunction', 'injured', 'injuries', 'injury', 'instead', 'instructed', 'instruction', 'instructions', 'insufficient', 'intended', 'intent', 'intention', 'introduced', 'issue', 'issues', 'jackson', 'james', 'january', 'jj', 'john', 'johnson', 'jones', 'joseph', 'jr', 'judge', 'judgment', 'july', 'june', 'jurisdiction', 'jury', 'just', 'justice', 'justify', 'kept', 'kind', 'knew', 'know', 'knowledge', 'known', 'laid', 'land', 'lands', 'language', 'large', 'later', 'law', 'lawful', 'lawfully', 'laws', 'leading', 'lease', 'leave', 'leaving', 'left', 'legal', 'length', 'liability', 'liable', 'life', 'light', 'like', 'limitation', 'limitations', 'limits', 'line', 'lines', 'little', 'lived', 'living', 'located', 'location', 'long', 'loss', 'lost', 'lot', 'lots', 'louis', 'lying', 'main', 'maintain', 'maintained', 'maintaining', 'make', 'makes', 'making', 'man', 'manner', 'map', 'march', 'marked', 'martin', 'mary', 'mass', 'material', 'matter', 'meaning', 'means', 'measure', 'men', 'mentioned', 'mere', 'merely', 'mich', 'miller', 'mistake', 'mo', 'money', 'motion', 'moved', 'mr', 'mrs', 'named', 'natural', 'nature', 'near', 'necessarily', 'necessary', 'necessity', 'need', 'negligence', 'new', 'north', 'note', 'notice', 'notorious', 'notwithstanding', 'november', 'nuisance', 'number', 'objected', 'objection', 'obstruction', 'obtained', 'occupancy', 'occupation', 'occupied', 'occupy', 'occupying', 'october', 'oe', 'offered', 'office', 'old', 'op', 'open', 'opened', 'opening', 'operation', 'opinion', 'order', 'ordered', 'ordinary', 'original', 'originally', 'ought', 'overruled', 'owned', 'owner', 'owners', 'ownership', 'pa', 'pac', 'page', 'paid', 'parcel', 'parol', 'particular', 'parties', 'partition', 'parts', 'party', 'pass', 'passed', 'passing', 'pasture', 'pay', 'payment', 'performance', 'period', 'permitted', 'person', 'personal', 'persons', 'petition', 'piece', 'place', 'placed', 'plaintiff', 'plaintiffs', 'plat', 'plea', 'pleadings', 'pleas', 'point', 'points', 'porter', 'portion', 'portions', 'possession', 'post', 'posts', 'power', 'premises', 'prescription', 'present', 'presented', 'presiding', 'presumed', 'presumption', 'prevent', 'previous', 'principal', 'principle', 'prior', 'private', 'proceeding', 'proceedings', 'proof', 'proper', 'properly', 'property', 'proprietors', 'protect', 'prove', 'proved', 'provided', 'providing', 'provision', 'provisions', 'public', 'purchase', 'purchased', 'purchaser', 'purpose', 'purposes', 'question', 'questions', 'quiet', 'railroad', 'railroads', 'railway', 'raised', 'ran', 'real', 'rear', 'reason', 'reasonable', 'received', 'recognized', 'record', 'recorded', 'recover', 'recovered', 'recovery', 'reference', 'referred', 'refused', 'refusing', 'regard', 'rehearing', 'relation', 'relied', 'relief', 'remain', 'remainder', 'remained', 'remedy', 'removal', 'remove', 'removed', 'removing', 'render', 'rendered', 'rep', 'repair', 'report', 'request', 'requested', 'require', 'required', 'requires', 'respect', 'respective', 'respondent', 'respondents', 'restrain', 'result', 'returned', 'reversed', 'right', 'rights', 'river', 'road', 'rule', 'run', 'running', 'said', 'sale', 'say', 'says', 'sec', 'second', 'section', 'seen', 'sell', 'separate', 'september', 'set', 'settled', 'seven', 'shall', 'short', 'showed', 'showing', 'shown', 'shows', 'sides', 'situated', 'small', 'smith', 'sold', 'son', 'sought', 'south', 'special', 'specific', 'spring', 'st', 'stand', 'standing', 'state', 'stated', 'statement', 'states', 'statute', 'statutes', 'statutory', 'stock', 'stone', 'stood', 'street', 'streets', 'strip', 'subject', 'submitted', 'subsequent', 'subsequently', 'substance', 'substantial', 'substantially', 'sued', 'sufficient', 'sufficiently', 'suit', 'sum', 'superior', 'support', 'supposed', 'supreme', 'survey', 'surveyed', 'surveyor', 'sustain', 'sustained', 'taken', 'taking', 'taxes', 'tbe', 'tenant', 'tenants', 'tending', 'term', 'terms', 'testator', 'testified', 'testimony', 'texas', 'theory', 'therefor', 'therefrom', 'thereof', 'thereon', 'thereto', 'things', 'think', 'thirty', 'thomas', 'thompson', 'time', 'times', 'title', 'told', 'took', 'town', 'township', 'track', 'tract', 'tracts', 'trespass', 'trespasser', 'trial', 'tried', 'true', 'trust', 'try', 'understanding', 'united', 'unless', 'use', 'used', 'user', 'using', 'valuable', 'value', 'verdict', 'view', 'virtue', 'void', 'vs', 'wall', 'water', 'way', 'wend', 'went', 'west', 'white', 'wholly', 'wide', 'width', 'wife', 'william', 'williams', 'wilson', 'wire', 'wit', 'witness', 'witnesses', 'wood', 'words', 'work', 'worth', 'writ', 'writing', 'written', 'year', 'years', 'york']\n"
     ]
    }
   ],
   "source": [
    "# # define tokenizer that handles stemmings\n",
    "# # sourced from https://gist.github.com/deargle/b57738c8ce2b4ed6ca90f86d5422431f\n",
    "# trans_table = {ord(c): None for c in string.punctuation + string.digits}    \n",
    "# stemmer = PorterStemmer()\n",
    "\n",
    "# def tokenize(text):\n",
    "#     return [stemmer.stem(word) for word in word_tokenize(text.translate(trans_table)) if len(word) > 1]\n",
    "    \n",
    "# # compute tf-idf scores\n",
    "# vec = TfidfVectorizer(tokenizer=tokenize, \n",
    "#                       min_df=.05, \n",
    "#                       max_df=0.8, \n",
    "#                       max_features=5000, \n",
    "#                       stop_words=[stemmer.stem(item) for item in ENGLISH_STOP_WORDS], \n",
    "#                       norm='l2')\n",
    "\n",
    "# compute tf-idf scores\n",
    "vec = TfidfVectorizer(min_df=.05, \n",
    "                      max_df=0.8, \n",
    "                      max_features=5000, \n",
    "                      stop_words='english', \n",
    "                      norm='l2')\n",
    "\n",
    "tfidf_matrix = vec.fit_transform(case_texts + [QUERY]).toarray()\n",
    "tokens = vec.get_feature_names()\n",
    "\n",
    "print(\"(stemmed) tokens considered by vectorizer:\")\n",
    "print(tokens)"
   ]
  },
  {
   "cell_type": "code",
   "execution_count": 30,
   "metadata": {},
   "outputs": [],
   "source": [
    "# compute cosine similarity of cases to search query\n",
    "query_vec = tfidf_matrix[-1]\n",
    "scores = [cosine_similarity(query_vec.reshape(1,-1), doc_vec.reshape(1,-1))[0][0] for doc_vec in tfidf_matrix[:-1]]"
   ]
  },
  {
   "cell_type": "code",
   "execution_count": 31,
   "metadata": {},
   "outputs": [
    {
     "data": {
      "text/html": [
       "<div>\n",
       "<style scoped>\n",
       "    .dataframe tbody tr th:only-of-type {\n",
       "        vertical-align: middle;\n",
       "    }\n",
       "\n",
       "    .dataframe tbody tr th {\n",
       "        vertical-align: top;\n",
       "    }\n",
       "\n",
       "    .dataframe thead th {\n",
       "        text-align: right;\n",
       "    }\n",
       "</style>\n",
       "<table border=\"1\" class=\"dataframe\">\n",
       "  <thead>\n",
       "    <tr style=\"text-align: right;\">\n",
       "      <th></th>\n",
       "      <th>case_name</th>\n",
       "      <th>score</th>\n",
       "      <th>original_rank</th>\n",
       "    </tr>\n",
       "  </thead>\n",
       "  <tbody>\n",
       "    <tr>\n",
       "      <th>0</th>\n",
       "      <td>Thayer vs. Wright</td>\n",
       "      <td>0.306225</td>\n",
       "      <td>5</td>\n",
       "    </tr>\n",
       "    <tr>\n",
       "      <th>1</th>\n",
       "      <td>ROWLAND v. BAIRD</td>\n",
       "      <td>0.305989</td>\n",
       "      <td>0</td>\n",
       "    </tr>\n",
       "    <tr>\n",
       "      <th>2</th>\n",
       "      <td>Smith versus Johnson</td>\n",
       "      <td>0.295209</td>\n",
       "      <td>6</td>\n",
       "    </tr>\n",
       "    <tr>\n",
       "      <th>3</th>\n",
       "      <td>Philip Saperstein, Plaintiff, v. Daniel Berman...</td>\n",
       "      <td>0.282951</td>\n",
       "      <td>2</td>\n",
       "    </tr>\n",
       "    <tr>\n",
       "      <th>4</th>\n",
       "      <td>GOODALE v. SOWELL</td>\n",
       "      <td>0.257046</td>\n",
       "      <td>14</td>\n",
       "    </tr>\n",
       "    <tr>\n",
       "      <th>5</th>\n",
       "      <td>Jim Langston et al. v. G. H. Maxey</td>\n",
       "      <td>0.248051</td>\n",
       "      <td>3</td>\n",
       "    </tr>\n",
       "    <tr>\n",
       "      <th>6</th>\n",
       "      <td>Gulf, Colorado &amp; Santa Fe Railway Co. v. E. B....</td>\n",
       "      <td>0.247283</td>\n",
       "      <td>21</td>\n",
       "    </tr>\n",
       "    <tr>\n",
       "      <th>7</th>\n",
       "      <td>Benjamin Wright against Martin Wright</td>\n",
       "      <td>0.247059</td>\n",
       "      <td>34</td>\n",
       "    </tr>\n",
       "    <tr>\n",
       "      <th>8</th>\n",
       "      <td>Krum &amp; Peters versus Anthony</td>\n",
       "      <td>0.235049</td>\n",
       "      <td>211</td>\n",
       "    </tr>\n",
       "    <tr>\n",
       "      <th>9</th>\n",
       "      <td>Davis vs. Townsend</td>\n",
       "      <td>0.233323</td>\n",
       "      <td>110</td>\n",
       "    </tr>\n",
       "    <tr>\n",
       "      <th>10</th>\n",
       "      <td>Dietrich versus Berk</td>\n",
       "      <td>0.205708</td>\n",
       "      <td>24</td>\n",
       "    </tr>\n",
       "    <tr>\n",
       "      <th>11</th>\n",
       "      <td>WARNER v. WILL</td>\n",
       "      <td>0.198520</td>\n",
       "      <td>9</td>\n",
       "    </tr>\n",
       "    <tr>\n",
       "      <th>12</th>\n",
       "      <td>J. L. Browne, appellee, v. J. B. Finley, Trust...</td>\n",
       "      <td>0.197879</td>\n",
       "      <td>350</td>\n",
       "    </tr>\n",
       "    <tr>\n",
       "      <th>13</th>\n",
       "      <td>BURNETT v. SOUTHERN RY.</td>\n",
       "      <td>0.195380</td>\n",
       "      <td>11</td>\n",
       "    </tr>\n",
       "    <tr>\n",
       "      <th>14</th>\n",
       "      <td>William Riley et al. v. The People of the Stat...</td>\n",
       "      <td>0.195140</td>\n",
       "      <td>22</td>\n",
       "    </tr>\n",
       "    <tr>\n",
       "      <th>15</th>\n",
       "      <td>O’Neal v. Ross</td>\n",
       "      <td>0.192480</td>\n",
       "      <td>32</td>\n",
       "    </tr>\n",
       "    <tr>\n",
       "      <th>16</th>\n",
       "      <td>Yager vs. Larsen and another</td>\n",
       "      <td>0.191771</td>\n",
       "      <td>7</td>\n",
       "    </tr>\n",
       "    <tr>\n",
       "      <th>17</th>\n",
       "      <td>Hannah T. Omensetter v. Henry Kemper, Appellant</td>\n",
       "      <td>0.191672</td>\n",
       "      <td>15</td>\n",
       "    </tr>\n",
       "    <tr>\n",
       "      <th>18</th>\n",
       "      <td>George P. Hooper versus Horace Cummings</td>\n",
       "      <td>0.190105</td>\n",
       "      <td>40</td>\n",
       "    </tr>\n",
       "    <tr>\n",
       "      <th>19</th>\n",
       "      <td>Dhein, Respondent, vs. Beuscher and others, Ap...</td>\n",
       "      <td>0.187667</td>\n",
       "      <td>29</td>\n",
       "    </tr>\n",
       "  </tbody>\n",
       "</table>\n",
       "</div>"
      ],
      "text/plain": [
       "                                            case_name     score  original_rank\n",
       "0                                   Thayer vs. Wright  0.306225              5\n",
       "1                                    ROWLAND v. BAIRD  0.305989              0\n",
       "2                                Smith versus Johnson  0.295209              6\n",
       "3   Philip Saperstein, Plaintiff, v. Daniel Berman...  0.282951              2\n",
       "4                                   GOODALE v. SOWELL  0.257046             14\n",
       "5                  Jim Langston et al. v. G. H. Maxey  0.248051              3\n",
       "6   Gulf, Colorado & Santa Fe Railway Co. v. E. B....  0.247283             21\n",
       "7               Benjamin Wright against Martin Wright  0.247059             34\n",
       "8                        Krum & Peters versus Anthony  0.235049            211\n",
       "9                                  Davis vs. Townsend  0.233323            110\n",
       "10                               Dietrich versus Berk  0.205708             24\n",
       "11                                     WARNER v. WILL  0.198520              9\n",
       "12  J. L. Browne, appellee, v. J. B. Finley, Trust...  0.197879            350\n",
       "13                            BURNETT v. SOUTHERN RY.  0.195380             11\n",
       "14  William Riley et al. v. The People of the Stat...  0.195140             22\n",
       "15                                     O’Neal v. Ross  0.192480             32\n",
       "16                       Yager vs. Larsen and another  0.191771              7\n",
       "17    Hannah T. Omensetter v. Henry Kemper, Appellant  0.191672             15\n",
       "18            George P. Hooper versus Horace Cummings  0.190105             40\n",
       "19  Dhein, Respondent, vs. Beuscher and others, Ap...  0.187667             29"
      ]
     },
     "execution_count": 31,
     "metadata": {},
     "output_type": "execute_result"
    }
   ],
   "source": [
    "# display results\n",
    "cosine_similarities = [(k,v, case_names.index(k)) for k,v in zip(case_names, scores)]\n",
    "results = pd.DataFrame(cosine_similarities, columns=['case_name', 'score', 'original_rank']).sort_values('score', ascending=False).reset_index(drop=True)\n",
    "results.head(20)"
   ]
  },
  {
   "cell_type": "code",
   "execution_count": 9,
   "metadata": {},
   "outputs": [
    {
     "data": {
      "image/png": "[encoded data removed]",
      "text/plain": [
       "<Figure size 432x288 with 1 Axes>"
      ]
     },
     "metadata": {
      "needs_background": "light"
     },
     "output_type": "display_data"
    },
    {
     "data": {
      "image/png": "[encoded data removed]",
      "text/plain": [
       "<Figure size 432x288 with 1 Axes>"
      ]
     },
     "metadata": {
      "needs_background": "light"
     },
     "output_type": "display_data"
    }
   ],
   "source": [
    "plt.bar(results.index, results.score)\n",
    "plt.xlabel('rank based on cosine value')\n",
    "plt.ylabel('cosine similarity value')\n",
    "plt.show()\n",
    "plt.bar(results.original_rank, results.score, color='green')\n",
    "plt.xlabel('original rank given by API')\n",
    "plt.ylabel('cosine similarity value')\n",
    "plt.show()"
   ]
  },
  {
   "cell_type": "markdown",
   "metadata": {},
   "source": [
    "### Step 4: determine outcome of case"
   ]
  },
  {
   "cell_type": "code",
   "execution_count": 10,
   "metadata": {},
   "outputs": [],
   "source": [
    "opinion_counts = {}\n",
    "for idx, case in enumerate(cases):\n",
    "    try:\n",
    "        opinion_counts[len(case['casebody']['data']['opinions'])] += 1\n",
    "    except KeyError:\n",
    "        opinion_counts[len(case['casebody']['data']['opinions'])] = 1"
   ]
  },
  {
   "cell_type": "code",
   "execution_count": 11,
   "metadata": {},
   "outputs": [
    {
     "data": {
      "image/png": "[encoded data removed]",
      "text/plain": [
       "<Figure size 432x288 with 1 Axes>"
      ]
     },
     "metadata": {
      "needs_background": "light"
     },
     "output_type": "display_data"
    }
   ],
   "source": [
    "plt.bar(opinion_counts.keys(), opinion_counts.values())\n",
    "plt.xticks(range(1,len(opinion_counts)+1))\n",
    "plt.xlabel('opinion count')\n",
    "plt.ylabel('number of cases')\n",
    "plt.show()"
   ]
  },
  {
   "cell_type": "code",
   "execution_count": null,
   "metadata": {},
   "outputs": [],
   "source": []
  }
 ],
 "metadata": {
  "kernelspec": {
   "display_name": "Python 3",
   "language": "python",
   "name": "python3"
  },
  "language_info": {
   "codemirror_mode": {
    "name": "ipython",
    "version": 3
   },
   "file_extension": ".py",
   "mimetype": "text/x-python",
   "name": "python",
   "nbconvert_exporter": "python",
   "pygments_lexer": "ipython3",
   "version": "3.7.6"
  }
 },
 "nbformat": 4,
 "nbformat_minor": 2
}
