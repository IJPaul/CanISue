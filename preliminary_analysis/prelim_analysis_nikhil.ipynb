{
 "cells": [
  {
   "cell_type": "code",
   "execution_count": 1,
   "metadata": {},
   "outputs": [],
   "source": [
    "import json\n",
    "import re\n",
    "import numpy as np\n",
    "import pandas as pd\n",
    "import os\n",
    "from sklearn.feature_extraction.text import TfidfVectorizer\n",
    "from sklearn.metrics.pairwise import cosine_similarity\n",
    "\n",
    "os.chdir(\"..\")\n",
    "import utils"
   ]
  },
  {
   "cell_type": "markdown",
   "metadata": {},
   "source": [
    "### Step 1: load cases"
   ]
  },
  {
   "cell_type": "code",
   "execution_count": 2,
   "metadata": {},
   "outputs": [],
   "source": [
    "QUERY = \"neighbor cut tree\""
   ]
  },
  {
   "cell_type": "code",
   "execution_count": 3,
   "metadata": {},
   "outputs": [],
   "source": [
    "file_name = \"output_{}.json\".format(QUERY.replace(\" \", \"-\"))\n",
    "\n",
    "if os.path.exists(file_name):\n",
    "    # load data\n",
    "    with open(file_name, 'r') as f:\n",
    "        cases = json.load(f)\n",
    "else:\n",
    "    # query data\n",
    "    response = utils.get_request_caselaw(\"https://api.case.law/v1/cases/?search='{}'&full_case=TRUE\".format(QUERY)).json()\n",
    "    cases = response['results']\n",
    "    \n",
    "    i = 1 # limit to 5 requests (500 cases) because that should be more than enough\n",
    "    while response['next'] and i < 5: \n",
    "        response = utils.get_request_caselaw(response['next']).json()\n",
    "        cases.extend(response['results'])\n",
    "        i += 1\n",
    "    \n",
    "    with open(file_name, 'w') as f:\n",
    "        json.dump(cases, f)"
   ]
  },
  {
   "cell_type": "markdown",
   "metadata": {},
   "source": [
    "Structure of `response` dict:\n",
    "```\n",
    "{  \n",
    "    \"count\"    : total number of matching cases  \n",
    "    \"next\"     : url to query for next 100 cases  \n",
    "    \"previous\" : url to query for previous 100 cases  \n",
    "    \"results\"  : [ (max length 100)\n",
    "        {\n",
    "            \"name\"          : **case name**\n",
    "            \"decision_date\" : case date\n",
    "            \"citations\"     : [\n",
    "                {\n",
    "                    \"cite\" : name of law\n",
    "                    \"type\" : ??\n",
    "                },\n",
    "                ...\n",
    "            ]\n",
    "            \"frontend_url\"  : clean look at case\n",
    "            \"casebody\"      : { (if full_case=FALSE, this field is not present)\n",
    "                \"status\" : should equal ok\n",
    "                \"data\"   : {\n",
    "                    \"opinions\"    : [ (for non-supreme court cases, just one opinion)\n",
    "                        {\n",
    "                            \"author\" : name of judge\n",
    "                            \"type\"   : indicates type of opinion (majority/dissent/etc)\n",
    "                            \"text\"   : opinion text\n",
    "                        },\n",
    "                        ...\n",
    "                    ]\n",
    "                    \"head_matter\" : **case description text**\n",
    "            }\n",
    "        },\n",
    "        ...\n",
    "    ]\n",
    "}\n",
    "```"
   ]
  },
  {
   "cell_type": "markdown",
   "metadata": {},
   "source": [
    "### Step 2: pre-processing"
   ]
  },
  {
   "cell_type": "code",
   "execution_count": 4,
   "metadata": {},
   "outputs": [],
   "source": [
    "for case in cases:\n",
    "    # get rid of non-ok cases\n",
    "    if case['casebody']['status'] != 'ok':\n",
    "        cases.remove(case)\n",
    "        continue\n",
    "\n",
    "    # get rid of \\n from case description\n",
    "    case['casebody']['data']['head_matter'] = case['casebody']['data']['head_matter'].replace(\"\\n\", \" \")"
   ]
  },
  {
   "cell_type": "code",
   "execution_count": 5,
   "metadata": {},
   "outputs": [],
   "source": [
    "# enforce case ordering and also remove duplicates\n",
    "case_names, case_texts = zip(*[(case['name'], case['casebody']['data']['head_matter']) for case in cases])\n",
    "case_names = list(case_names)\n",
    "case_texts = list(case_texts)"
   ]
  },
  {
   "cell_type": "markdown",
   "metadata": {},
   "source": [
    "### Step 3: find good measure of case similarity"
   ]
  },
  {
   "cell_type": "code",
   "execution_count": 6,
   "metadata": {
    "scrolled": false
   },
   "outputs": [
    {
     "name": "stdout",
     "output_type": "stream",
     "text": [
      "tokens considered by vectorizer:\n",
      "['10', '11', '12', '13', '14', '15', '16', '17', '18', '19', '20', '21', '22', '23', '24', '25', '27', '2d', '30', 'act', 'action', 'adjoining', 'affirmed', 'al', 'alleged', 'app', 'appeal', 'appeals', 'appellant', 'appellants', 'appellee', 'appellees', 'april', 'argued', 'assistant', 'asst', 'attorney', 'attorneys', 'atty', 'brief', 'brown', 'ca', 'case', 'cases', 'cause', 'certain', 'charge', 'charles', 'chief', 'circuit', 'city', 'company', 'corporation', 'counsel', 'county', 'court', 'cut', 'cutting', 'damages', 'david', 'dec', 'december', 'decided', 'defendant', 'defendants', 'denied', 'department', 'did', 'dist', 'district', 'div', 'division', 'does', 'error', 'et', 'evidence', 'fact', 'facts', 'february', 'feet', 'filed', 'gen', 'general', 'george', 'ground', 'having', 'held', 'injury', 'james', 'jan', 'january', 'jj', 'john', 'jones', 'jr', 'judge', 'judges', 'judgment', 'july', 'june', 'jury', 'justice', 'land', 'lands', 'law', 'liable', 'line', 'louisiana', 'make', 'march', 'michael', 'motion', 'necessary', 'neighbor', 'new', 'november', 'oct', 'october', 'office', 'opinion', 'owner', 'party', 'paul', 'person', 'place', 'plaintiff', 'plaintiffs', 'present', 'proper', 'property', 'public', 'question', 'rehearing', 'respondent', 'respondents', 'richard', 'right', 'robert', 'said', 'second', 'section', 'september', 'smith', 'state', 'stated', 'states', 'submitted', 'sufficient', 'superior', 'supreme', 'term', 'thomas', 'time', 'tree', 'trees', 'trial', 'united', 'unless', 'use', 'verdict', 'vs', 'william', 'years']\n"
     ]
    }
   ],
   "source": [
    "vec = TfidfVectorizer(min_df=.05, max_df=0.8, max_features=5000, stop_words='english', norm='l2')\n",
    "tfidf_matrix = vec.fit_transform(case_texts + [QUERY]).toarray()\n",
    "tokens = vec.get_feature_names()\n",
    "print(\"tokens considered by vectorizer:\")\n",
    "print(tokens)"
   ]
  },
  {
   "cell_type": "code",
   "execution_count": 7,
   "metadata": {},
   "outputs": [],
   "source": [
    "# compute cosine similarity\n",
    "query_vec = tfidf_matrix[-1]\n",
    "scores = [cosine_similarity(query_vec.reshape(1,-1), doc_vec.reshape(1,-1))[0][0] for doc_vec in tfidf_matrix[:-1]]\n",
    "cosine_similarities = [(k,v, case_names.index(k)) for k,v in zip(case_names, scores)]"
   ]
  },
  {
   "cell_type": "code",
   "execution_count": 8,
   "metadata": {},
   "outputs": [
    {
     "data": {
      "text/html": [
       "<div>\n",
       "<style scoped>\n",
       "    .dataframe tbody tr th:only-of-type {\n",
       "        vertical-align: middle;\n",
       "    }\n",
       "\n",
       "    .dataframe tbody tr th {\n",
       "        vertical-align: top;\n",
       "    }\n",
       "\n",
       "    .dataframe thead th {\n",
       "        text-align: right;\n",
       "    }\n",
       "</style>\n",
       "<table border=\"1\" class=\"dataframe\">\n",
       "  <thead>\n",
       "    <tr style=\"text-align: right;\">\n",
       "      <th></th>\n",
       "      <th>case_name</th>\n",
       "      <th>score</th>\n",
       "      <th>original_rank</th>\n",
       "    </tr>\n",
       "  </thead>\n",
       "  <tbody>\n",
       "    <tr>\n",
       "      <th>0</th>\n",
       "      <td>George Evans vs. Mayer Tree Service, Inc., &amp; o...</td>\n",
       "      <td>0.439336</td>\n",
       "      <td>0</td>\n",
       "    </tr>\n",
       "    <tr>\n",
       "      <th>1</th>\n",
       "      <td>Charles B. Gibson, Respondent, v. Elizabeth B....</td>\n",
       "      <td>0.354077</td>\n",
       "      <td>5</td>\n",
       "    </tr>\n",
       "    <tr>\n",
       "      <th>2</th>\n",
       "      <td>Benjamin F. Edsall, Resp’t, v. John L. Howell,...</td>\n",
       "      <td>0.353357</td>\n",
       "      <td>3</td>\n",
       "    </tr>\n",
       "    <tr>\n",
       "      <th>3</th>\n",
       "      <td>EDSALL v. HOWELL</td>\n",
       "      <td>0.344158</td>\n",
       "      <td>4</td>\n",
       "    </tr>\n",
       "    <tr>\n",
       "      <th>4</th>\n",
       "      <td>Benjamine F. Edsall, Respondent, v. John L. Ho...</td>\n",
       "      <td>0.343977</td>\n",
       "      <td>6</td>\n",
       "    </tr>\n",
       "    <tr>\n",
       "      <th>5</th>\n",
       "      <td>GRUBBS v. UNITED STATES</td>\n",
       "      <td>0.321304</td>\n",
       "      <td>40</td>\n",
       "    </tr>\n",
       "    <tr>\n",
       "      <th>6</th>\n",
       "      <td>The Chickasaw; O’Neil et al. v. Memphis &amp; W. R...</td>\n",
       "      <td>0.294853</td>\n",
       "      <td>134</td>\n",
       "    </tr>\n",
       "    <tr>\n",
       "      <th>7</th>\n",
       "      <td>W. L. Keirn v. Lloyd Warfield</td>\n",
       "      <td>0.283650</td>\n",
       "      <td>14</td>\n",
       "    </tr>\n",
       "    <tr>\n",
       "      <th>8</th>\n",
       "      <td>JAMES GODFREY, by JOHN GODFREY, His Next Frien...</td>\n",
       "      <td>0.277071</td>\n",
       "      <td>29</td>\n",
       "    </tr>\n",
       "    <tr>\n",
       "      <th>9</th>\n",
       "      <td>S. H. Buckingham v. T. G. Elliott</td>\n",
       "      <td>0.243214</td>\n",
       "      <td>2</td>\n",
       "    </tr>\n",
       "    <tr>\n",
       "      <th>10</th>\n",
       "      <td>Edmund Skinner v. Samuel N. Wilder</td>\n",
       "      <td>0.228177</td>\n",
       "      <td>17</td>\n",
       "    </tr>\n",
       "    <tr>\n",
       "      <th>11</th>\n",
       "      <td>Carolyn WHITING and Leonard Whiting, Appellant...</td>\n",
       "      <td>0.221698</td>\n",
       "      <td>10</td>\n",
       "    </tr>\n",
       "    <tr>\n",
       "      <th>12</th>\n",
       "      <td>J. B. Tanner, Respondent, v. H. Wallbrunn, App...</td>\n",
       "      <td>0.205357</td>\n",
       "      <td>9</td>\n",
       "    </tr>\n",
       "    <tr>\n",
       "      <th>13</th>\n",
       "      <td>Kinchin Exum v. John Brister</td>\n",
       "      <td>0.204344</td>\n",
       "      <td>174</td>\n",
       "    </tr>\n",
       "    <tr>\n",
       "      <th>14</th>\n",
       "      <td>John Bateson v. The State</td>\n",
       "      <td>0.203176</td>\n",
       "      <td>141</td>\n",
       "    </tr>\n",
       "    <tr>\n",
       "      <th>15</th>\n",
       "      <td>Ellis vs. Duncan and others</td>\n",
       "      <td>0.202574</td>\n",
       "      <td>50</td>\n",
       "    </tr>\n",
       "    <tr>\n",
       "      <th>16</th>\n",
       "      <td>GIBSON v. DENTON</td>\n",
       "      <td>0.200580</td>\n",
       "      <td>11</td>\n",
       "    </tr>\n",
       "    <tr>\n",
       "      <th>17</th>\n",
       "      <td>Moran vs. McClearns</td>\n",
       "      <td>0.191673</td>\n",
       "      <td>34</td>\n",
       "    </tr>\n",
       "    <tr>\n",
       "      <th>18</th>\n",
       "      <td>John W. Ruth vs. State of Maryland and George ...</td>\n",
       "      <td>0.176889</td>\n",
       "      <td>124</td>\n",
       "    </tr>\n",
       "    <tr>\n",
       "      <th>19</th>\n",
       "      <td>STATE v. BUTLER</td>\n",
       "      <td>0.167160</td>\n",
       "      <td>285</td>\n",
       "    </tr>\n",
       "  </tbody>\n",
       "</table>\n",
       "</div>"
      ],
      "text/plain": [
       "                                            case_name     score  original_rank\n",
       "0   George Evans vs. Mayer Tree Service, Inc., & o...  0.439336              0\n",
       "1   Charles B. Gibson, Respondent, v. Elizabeth B....  0.354077              5\n",
       "2   Benjamin F. Edsall, Resp’t, v. John L. Howell,...  0.353357              3\n",
       "3                                    EDSALL v. HOWELL  0.344158              4\n",
       "4   Benjamine F. Edsall, Respondent, v. John L. Ho...  0.343977              6\n",
       "5                             GRUBBS v. UNITED STATES  0.321304             40\n",
       "6   The Chickasaw; O’Neil et al. v. Memphis & W. R...  0.294853            134\n",
       "7                       W. L. Keirn v. Lloyd Warfield  0.283650             14\n",
       "8   JAMES GODFREY, by JOHN GODFREY, His Next Frien...  0.277071             29\n",
       "9                   S. H. Buckingham v. T. G. Elliott  0.243214              2\n",
       "10                 Edmund Skinner v. Samuel N. Wilder  0.228177             17\n",
       "11  Carolyn WHITING and Leonard Whiting, Appellant...  0.221698             10\n",
       "12  J. B. Tanner, Respondent, v. H. Wallbrunn, App...  0.205357              9\n",
       "13                       Kinchin Exum v. John Brister  0.204344            174\n",
       "14                          John Bateson v. The State  0.203176            141\n",
       "15                        Ellis vs. Duncan and others  0.202574             50\n",
       "16                                   GIBSON v. DENTON  0.200580             11\n",
       "17                                Moran vs. McClearns  0.191673             34\n",
       "18  John W. Ruth vs. State of Maryland and George ...  0.176889            124\n",
       "19                                    STATE v. BUTLER  0.167160            285"
      ]
     },
     "execution_count": 8,
     "metadata": {},
     "output_type": "execute_result"
    }
   ],
   "source": [
    "# display results\n",
    "results = pd.DataFrame(cosine_similarities, columns=['case_name', 'score', 'original_rank']).sort_values('score', ascending=False).reset_index(drop=True)\n",
    "results.head(20)"
   ]
  },
  {
   "cell_type": "code",
   "execution_count": null,
   "metadata": {},
   "outputs": [],
   "source": []
  }
 ],
 "metadata": {
  "kernelspec": {
   "display_name": "Python 3",
   "language": "python",
   "name": "python3"
  },
  "language_info": {
   "codemirror_mode": {
    "name": "ipython",
    "version": 3
   },
   "file_extension": ".py",
   "mimetype": "text/x-python",
   "name": "python",
   "nbconvert_exporter": "python",
   "pygments_lexer": "ipython3",
   "version": "3.7.6"
  }
 },
 "nbformat": 4,
 "nbformat_minor": 2
}
