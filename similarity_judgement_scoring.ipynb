{
 "cells": [
  {
   "cell_type": "code",
   "execution_count": 145,
   "metadata": {},
   "outputs": [],
   "source": [
    "import requests\n",
    "import os\n",
    "import utils\n",
    "import json\n",
    "from sklearn.feature_extraction.text import TfidfVectorizer\n",
    "import numpy as np\n",
    "from numpy import linalg as LA\n",
    "import math\n",
    "\n",
    "# For text summarization\n",
    "from nltk.corpus import stopwords\n",
    "from nltk.stem import PorterStemmer\n",
    "from collections import Counter\n",
    "from nltk.tokenize import word_tokenize, sent_tokenize\n",
    "import string "
   ]
  },
  {
   "cell_type": "markdown",
   "metadata": {},
   "source": [
    "# Display Pretty JSON"
   ]
  },
  {
   "cell_type": "code",
   "execution_count": 2,
   "metadata": {},
   "outputs": [],
   "source": [
    "def pretty_json(dictionary):   \n",
    "    formatted_json = json.dumps(dictionary, indent=4, sort_keys=True) # type 'str'\n",
    "    print(formatted_json)"
   ]
  },
  {
   "cell_type": "markdown",
   "metadata": {},
   "source": [
    "# Using the CAPAPI"
   ]
  },
  {
   "cell_type": "markdown",
   "metadata": {},
   "source": [
    "The Caselaw Access Project API, also known as CAPAPI, serves all official US court cases published in books from 1658 to 2018. The collection includes over six million cases scanned from the Harvard Law Library shelves."
   ]
  },
  {
   "cell_type": "code",
   "execution_count": 182,
   "metadata": {},
   "outputs": [],
   "source": [
    "def get_appeals_decision(case_json):\n",
    "    text = case_json[\"casebody\"][\"data\"][\"opinions\"][0]['text']\n",
    "    stem = PorterStemmer()\n",
    "    num_sentences = len(sent_tokenize(text))\n",
    "    appeals_decisions = [stem.stem('remanded'),  stem.stem('reversed'), stem.stem('affirmed')]\n",
    "    curr_sentence = 0\n",
    "    for sentence in sent_tokenize(text):\n",
    "        for word in word_tokenize(sentence):\n",
    "            root = stem.stem(word)\n",
    "\n",
    "\n",
    "\"\"\"\n",
    "Returns either 'appeals' or 'trial'\n",
    "case_json: request response object\n",
    "\"\"\"\n",
    "def get_court(case_json, percent_threshold=0.7):\n",
    "    text = case_json[\"casebody\"][\"data\"][\"opinions\"][0]['text']\n",
    "    stem = PorterStemmer()\n",
    "    num_sentences = len(sent_tokenize(text))\n",
    "    appeals_decisions = [stem.stem('remanded'),  stem.stem('reversed'), stem.stem('affirmed')]\n",
    "    curr_sentence = 0\n",
    "    for sentence in sent_tokenize(text):\n",
    "        for word in word_tokenize(sentence):\n",
    "            root = stem.stem(word)\n",
    "            percentage_through_text = float(curr_sentence) / float(num_sentences)\n",
    "            \n",
    "            if (root == stem.stem('appell')\n",
    "                or (root in appeals_decisions and percentage_through_text > percent_threshold) ):\n",
    "                return 'appeals'\n",
    "            \n",
    "        curr_sentence += 1\n",
    "    return 'trial'\n",
    "\n",
    "def get_list_of_cases\n",
    "                \n",
    "\n",
    "\"\"\"\n",
    "case_json: request response object\n",
    "Returns court id\n",
    "\"\"\"\n",
    "def get_name(case_json):\n",
    "    return case_json[\"name\"]\n",
    "\n",
    "\"\"\"\n",
    "case_json: request response object\n",
    "Returns court id\n",
    "\"\"\"\n",
    "def get_id(case_json):\n",
    "    return case_json[\"id\"]\n",
    "\n",
    "\n",
    "\"\"\"\n",
    "case_json: request response object\n",
    "Returns full-text of case\n",
    "\"\"\"\n",
    "def get_full_text(case_json):\n",
    "    return case_json[\"casebody\"][\"data\"][\"opinions\"][0]['text']"
   ]
  },
  {
   "cell_type": "markdown",
   "metadata": {},
   "source": [
    "### Retreive single case by ID"
   ]
  },
  {
   "cell_type": "code",
   "execution_count": 183,
   "metadata": {},
   "outputs": [],
   "source": [
    "single_case = utils.get_request_caselaw('https://api.case.law/v1/cases/1589229/?full_case=true').json() # actually a 'dict'"
   ]
  },
  {
   "cell_type": "markdown",
   "metadata": {},
   "source": [
    "### Phrase Search"
   ]
  },
  {
   "cell_type": "code",
   "execution_count": 184,
   "metadata": {},
   "outputs": [],
   "source": [
    "case_json = utils.get_request_caselaw('https://api.case.law/v1/cases/?search=\"car accident\"&full_case=true').json()"
   ]
  },
  {
   "cell_type": "markdown",
   "metadata": {},
   "source": [
    "### Full-text Search"
   ]
  },
  {
   "cell_type": "code",
   "execution_count": 164,
   "metadata": {},
   "outputs": [],
   "source": [
    "#utils.get_request_caselaw('https://api.case.law/v1/cases/?search=university published false article libel&full_case=true&ordering=decision_date').json()"
   ]
  },
  {
   "cell_type": "markdown",
   "metadata": {},
   "source": [
    "### Add a Date Range Filter"
   ]
  },
  {
   "cell_type": "code",
   "execution_count": 166,
   "metadata": {},
   "outputs": [
    {
     "data": {
      "text/plain": [
       "'&decision_date_min=1990-12-30&decision_date_max=1995-12-30'"
      ]
     },
     "execution_count": 166,
     "metadata": {},
     "output_type": "execute_result"
    }
   ],
   "source": [
    "'&decision_date_min=1990-12-30&decision_date_max=1995-12-30'"
   ]
  },
  {
   "cell_type": "markdown",
   "metadata": {},
   "source": [
    "# Useful Data Structures"
   ]
  },
  {
   "cell_type": "code",
   "execution_count": 185,
   "metadata": {},
   "outputs": [],
   "source": [
    "# The parts of the response we are interested in are the case name, case text, judge opinions, \n",
    "# and laws / regulations cited in the case.\n",
    "\n",
    "data = list()\n",
    "for result in case_json['results']:\n",
    "    \n",
    "    case_id = get_id(result)\n",
    "    case_name = get_name(result)\n",
    "    case_text = get_full_text(result)\n",
    "    \n",
    "    result_dict = {'case_id' : case_id, 'case_name' : case_name, 'text' : case_text}\n",
    "    data.append(result_dict)"
   ]
  },
  {
   "cell_type": "code",
   "execution_count": 186,
   "metadata": {},
   "outputs": [
    {
     "name": "stdout",
     "output_type": "stream",
     "text": [
      "0.2\n",
      "Number of trial cases: 14\n",
      "Number of appeals cases: 86\n",
      "\n",
      "\n",
      "0.3\n",
      "Number of trial cases: 15\n",
      "Number of appeals cases: 85\n",
      "\n",
      "\n",
      "0.4\n",
      "Number of trial cases: 17\n",
      "Number of appeals cases: 83\n",
      "\n",
      "\n",
      "0.5\n",
      "Number of trial cases: 18\n",
      "Number of appeals cases: 82\n",
      "\n",
      "\n",
      "0.6\n",
      "Number of trial cases: 20\n",
      "Number of appeals cases: 80\n",
      "\n",
      "\n",
      "0.7\n",
      "Number of trial cases: 22\n",
      "Number of appeals cases: 78\n",
      "\n",
      "\n",
      "0.8\n",
      "Number of trial cases: 23\n",
      "Number of appeals cases: 77\n",
      "\n",
      "\n"
     ]
    }
   ],
   "source": [
    "\n",
    "for p in [0.2, 0.3, 0.4,0.5, 0.6,0.7,0.8]:\n",
    "    \n",
    "    trial_count = 0\n",
    "    appeals_count = 0\n",
    "    \n",
    "    for result in case_json['results']:\n",
    "        court = get_court(result,p)\n",
    "        if court == 'appeals':\n",
    "            appeals_count += 1\n",
    "        else:\n",
    "            trial_count += 1\n",
    "    print(p)\n",
    "    print(\"Number of trial cases: %d\" % trial_count)\n",
    "    print(\"Number of appeals cases: %d\" % appeals_count)\n",
    "    print(\"\\n\")"
   ]
  },
  {
   "cell_type": "code",
   "execution_count": 169,
   "metadata": {},
   "outputs": [
    {
     "data": {
      "text/plain": [
       "15015"
      ]
     },
     "execution_count": 169,
     "metadata": {},
     "output_type": "execute_result"
    }
   ],
   "source": [
    "num_cases = case_json['count']\n",
    "num_cases"
   ]
  },
  {
   "cell_type": "code",
   "execution_count": 12,
   "metadata": {},
   "outputs": [
    {
     "name": "stdout",
     "output_type": "stream",
     "text": [
      "Loaded 15015 case transcripts\n",
      "Each case transcript is a dictionary with the following keys...\n",
      "dict_keys(['case_id', 'case_name', 'text'])\n"
     ]
    }
   ],
   "source": [
    "print(\"Loaded {} case transcripts\".format(num_cases))\n",
    "print(\"Each case transcript is a dictionary with the following keys...\")\n",
    "print(data[0].keys())\n",
    "\n",
    "\n",
    "# Here, we will assign an index for each movie_id. This index will help us access data in numpy matrices.\n",
    "case_id_to_index = {case_id:index for index, case_id in enumerate([d['case_id'] for d in data])}\n",
    "\n",
    "# We will also need a dictionary maping movie names to movie ids\n",
    "case_name_to_id = {name:case_id for name, case_id in zip([d['case_name'] for d in data],\n",
    "                                                     [d['case_id'] for d in data])}\n",
    "case_id_to_name = {v:k for k,v in case_name_to_id.items()}\n",
    "\n",
    "# and because it might be useful...\n",
    "case_name_to_index = {name:case_id_to_index[case_name_to_id[name]] for name in [d['case_name'] for d in data]}\n",
    "case_index_to_name = {v:k for k,v in case_name_to_index.items()}"
   ]
  },
  {
   "cell_type": "markdown",
   "metadata": {},
   "source": [
    "# Judgement Metric"
   ]
  },
  {
   "cell_type": "code",
   "execution_count": 13,
   "metadata": {},
   "outputs": [],
   "source": []
  },
  {
   "cell_type": "code",
   "execution_count": 69,
   "metadata": {},
   "outputs": [],
   "source": [
    "\"\"\"\n",
    "Returns true if a string contains a digit character, False otherwise\n",
    "word: a str\n",
    "\"\"\"\n",
    "def contains_digit(line):\n",
    "    return any(char.isdigit() for char in line)\n",
    "\n",
    "def contains_punctuation(line):\n",
    "    return any(char in string.punctuation for char in line)\n",
    "    \n",
    "\n",
    "\"\"\"\n",
    "Returns a term-frequency dict with (term, frequency) key-value pairs\n",
    "text_string: a str to create the term-freq dict from\n",
    "\"\"\"\n",
    "def create_tf_dict(text_string):\n",
    "    \n",
    "    # Remove stop words\n",
    "    text_string = text_string.lower()\n",
    "    stop_words = set(stopwords.words(\"english\"))\n",
    "    \n",
    "    words = word_tokenize(text_string)\n",
    "    \n",
    "    # Reduce words to their root form\n",
    "    stem = PorterStemmer()\n",
    "    \n",
    "    # Create dictionary for the word frequency table\n",
    "    tf_dict = dict()\n",
    "    for wd in words:\n",
    "        # Remove puncutation by turning puncutation to ''\n",
    "        wd = wd.translate(str.maketrans('', '', string.punctuation))\n",
    "        # Stem\n",
    "        wd = stem.stem(wd)\n",
    "        \n",
    "        if wd in stop_words or wd == '':\n",
    "            continue\n",
    "        if wd in tf_dict:\n",
    "            tf_dict[wd] += 1\n",
    "        else:\n",
    "            tf_dict[wd] = 1\n",
    "    \n",
    "    return tf_dict\n"
   ]
  },
  {
   "cell_type": "code",
   "execution_count": 144,
   "metadata": {},
   "outputs": [
    {
     "data": {
      "text/plain": [
       "'appeal'"
      ]
     },
     "execution_count": 144,
     "metadata": {},
     "output_type": "execute_result"
    }
   ],
   "source": [
    "stem = PorterStemmer()\n",
    "word = stem.stem('appeal')\n",
    "word"
   ]
  },
  {
   "cell_type": "code",
   "execution_count": 96,
   "metadata": {},
   "outputs": [],
   "source": [
    "def create_sentence_scores(sentences, tf_dict, n_chars=10):   \n",
    "\n",
    "    # Algorithm for scoring a sentence by its words\n",
    "    sentence_weight_dict = dict()\n",
    "\n",
    "    for sentence in sentences:\n",
    "        num_words = (len(word_tokenize(sentence)))\n",
    "        num_words_minus_stop_words = 0\n",
    "        first_n_chars = sentence[:n_chars]\n",
    "        \n",
    "        for word in tf_dict:\n",
    "        \n",
    "            if word in sentence.lower():\n",
    "                num_words_minus_stop_words += 1\n",
    "                \n",
    "                if not (contains_digit(first_n_chars) or contains_punctuation(first_n_chars)):\n",
    "\n",
    "                    if first_n_chars in sentence_weight_dict:\n",
    "                        sentence_weight_dict[first_n_chars] += tf_dict[word]\n",
    "                    else:\n",
    "                        sentence_weight_dict[first_n_chars] = tf_dict[word]\n",
    "        \n",
    "        if not (contains_digit(first_n_chars) or contains_punctuation(first_n_chars)):\n",
    "            # Additive smoothing to avoid infinities\n",
    "            sentence_weight_dict[first_n_chars] = ((sentence_weight_dict[first_n_chars]+1) / (num_words_minus_stop_words+1))\n",
    "      \n",
    "    return sentence_weight_dict\n"
   ]
  },
  {
   "cell_type": "code",
   "execution_count": 97,
   "metadata": {},
   "outputs": [],
   "source": [
    "def mean_sentence_score(sentence_weight_dict):\n",
    "   \n",
    "    # Calculating the average score for the sentences\n",
    "    sum_weights = 0\n",
    "    for sentence in sentence_weight_dict:\n",
    "        sum_weights += sentence_weight_dict[sentence]\n",
    "\n",
    "    # Getting sentence average value from source text\n",
    "    average_score = (sum_weights / len(sentence_weight_dict))\n",
    "\n",
    "    return average_score"
   ]
  },
  {
   "cell_type": "code",
   "execution_count": 98,
   "metadata": {},
   "outputs": [],
   "source": [
    "def create_summary(sentences, sentence_weight, threshold, n_chars=10):\n",
    "    sentence_counter = 0\n",
    "    article_summary = ''\n",
    "\n",
    "    for sentence in sentences:\n",
    "        if sentence[:n_chars] in sentence_weight and sentence_weight[sentence[:n_chars]] >= (threshold):\n",
    "            article_summary += \" \" + sentence\n",
    "            sentence_counter += 1\n",
    "\n",
    "    return article_summary"
   ]
  },
  {
   "cell_type": "code",
   "execution_count": 132,
   "metadata": {},
   "outputs": [],
   "source": [
    "def case_summary(case_text):\n",
    "    \n",
    "    # creating a tf dictionary\n",
    "    tf_dictionary = create_tf_dict(case_text)\n",
    "\n",
    "    # tokenize sentences\n",
    "    sentences = sent_tokenize(case_text)\n",
    "\n",
    "    # algorithm for scoring a sentence by its words\n",
    "    sentence_scores = create_sentence_scores(sentences, tf_dictionary)\n",
    "\n",
    "    #getting the threshold\n",
    "    threshold = mean_sentence_score(sentence_scores)\n",
    "\n",
    "    #producing the summary\n",
    "    article_summary = create_summary(sentences, sentence_scores, 1.3 * threshold)\n",
    "\n",
    "    return article_summary"
   ]
  },
  {
   "cell_type": "markdown",
   "metadata": {},
   "source": [
    "# Text Summarization"
   ]
  },
  {
   "cell_type": "code",
   "execution_count": 133,
   "metadata": {},
   "outputs": [],
   "source": [
    "from IPython.display import display, Markdown, Latex"
   ]
  },
  {
   "cell_type": "code",
   "execution_count": 136,
   "metadata": {},
   "outputs": [
    {
     "data": {
      "text/markdown": [
       "|,THOMAS F. DALEY, Judge.\n",
       "Appellant, Direct General Insurance Company of Louisiana (Direct General), filed a Petition for Concursus in this matter and deposited into the registry of the Court the sum of One Hundred Thousand ($100,000.00) Dollars, representing the “per person” limits of the policy of automobile liability insurance it issued to Delecia Allen, in connection with a motor vehicle accident that occurred in St. James Parish on September 26, 2001, which accident resulted in the death of Eugene Keller.\n",
       "The biological children and heirs of Eugene Keller, Jr. (Kellers), filed an Answer to the concursus petition and a Reconven-tional Demand in which they claimed that they were entitled to the entire Three Hundred Thousand ($300,000.00) Dollars “per accident” limits of the policy issued by Direct General.\n",
       "Both Direct General and the Kellers each filed a Motion for Summary Judgment on the issue of whether the “per person” limits of One Hundred Thousand ($100,000.00) Dollars or the “per accident” limits of Three Hundred | .¡Thousand ($300,000.00) Dollars applied to the claims of the Kellers under the policy.\n",
       "On May 16, 2002, the trial court entered judgment granting the Motion for Summary Judgment of the Kellers and denying the Motion for Summary Judgment of Direct General, in effect finding that the Three Hundred Thousand ($300,000.00) Dollars “per accident” limits of the policy applied.\n",
       "In the Reasons for Judgment issued on June 17, 2002, the trial judge stated, “the three children of Eugene Keller, Jr. each suffered individual injuries, including the loss of services, as a result of the death of their father.” Further, the trial court stated that “each child suffered bodily injury, as defined by the policy, caused by one car accident.” The judge ordered Direct General Insurance Company to pay policy limits of Three Hundred Thousand ($300,000.00) Dollars to the Kellers.\n",
       "Direct General appeals the decision of the trial court. Specifically, the trial court’s Order that Direct General pay policy limits of Three Hundred Thousand ($300,000.00) Dollars to the Kellers. Direct General requests that the trial court’s decision to deny its Motion for Summary Judgment be reversed, that the trial court’s Order that Direct General pay policy limits of Three Hundred Thousand ($300,000.00) Dollars to the Kellers be reversed, and the Direct General Motion for Summary Judgment be granted, finding the applicable limits of the policy to be One Hundred Thousand ($100,000.00) Dollars.\n",
       "The policy of automobile liability insurance issued by Direct General to Delecia Allen provides:\n",
       "Definitions\n",
       "Damages means the cost of compensating those who suffer bodily injury or property damage from a car accident.\n",
       "| ^Liability\n",
       "Bodily Injury Covered By This Insurance. This insurance covers bodily injury, including loss of services, sickness, disease or death that results from the injury, caused by a car accident and suffered by any person. Bodily injury does not mean a person’s emotional injury or mental anguish which resulted from witnessing an injury to another person or which otherwise resulted from the injury to another person.\n",
       "Limits of Liability\n",
       "The limit of liability shown in the declarations for “each person” for bodily injury liability is our maximum limit of liability for all damages for bodily injury to any one person, including damages for care, loss of services or death, arising out of bodily injury sustained by any one person in any one car accident. Subject to this limit for “each person” the limit of liability shown on the declarations for “each accident for bodily injury liability is our maximum limit of liability for all damages resulting from bodily injury sustained by two or more persons in any one car accident.\n",
       "The accident, which forms the basis of this suit, involved bodily injury to and the death of Eugene Keller, Jr.\n",
       "Appellants argue that according to the precise terms of the insurance policy the limit for “each person applies to all claims resulting from Eugene Keller, Jr.’s bodily injury.” They point out that the policy specifically states that bodily injury does not mean a person’s emotional injury or mental anguish which resulted from witnessing an injury to another person or which otherwise resulted from the injury to another person. Appellants assert that the damages that the Kellers children are entitled to all involve emotional or mental anguish that resulted from injury to Mr. Keller.\n",
       "The Kellers children argue that because the terms of the policy include “loss of services” within the definition of “Bodily Injury Covered”, that each of Mr. Keller’s children had an individual claim. The policy states, “This insurance covers bodily injury, including loss of services, sickness, disease or death that results from the injury, caused by a car accident and suffered by any person.”\n",
       "|sThe Kellers assert that the three children of Eugene Keller suffered individual injuries as a result of his death. These injuries were caused by one car accident; therefore, the policy provides coverage for the injuries the children suffered, i.e., “bodily injury, including loss of services, sickness, disease, or death that resulted from the car accident, as the children’s injuries fit within the policy provision of injuries “suffered by any person”.\n",
       "In this case, each child suffered bodily injury as defined by the policy, (ie. Loss of services) because of a car accident. All three of the children’s injuries occurred or arose from the car accident that killed their father. These individual injuries to the children entitle each of them to a per person limit on the policy, because of the following provision: “limit liability for all damages resulting from bodily injury sustained by two or more persons in any one car accident.”\n",
       "Where the language of a policy provision is subject to two reasonable interpretations, then the interpretation, which favors coverage, must be applied, Crabtree v. State Farm Ins. Co., 632 So.2d 736 (La.1994), 745. Since the policy provisions in Crabtree are essentially the same as the provisions in this case the same analysis leads us to the conclusion that under the particular language of this policy each child is entitled to a per person limit of One Hundred Thousand ($100,000.00) Dollars for a total of Three Hundred Thousand ($300,000.00) Dollars.\n",
       "All parties agree that these plaintiffs must establish the amount of damages to which each is entitled. Thus, the trial court’s ruling on the Motion for Summary Judgment is affirmed, the trial court award of damages is reversed, and the matter is remanded back to the trial court where the case will proceed to trial, so plaintiffs can prove the amount of damages each child suffered as a result of their individual injuries.\n",
       "AFFIRMED IN PART; REVERSED IN PART; AND REMANDED."
      ],
      "text/plain": [
       "<IPython.core.display.Markdown object>"
      ]
     },
     "metadata": {},
     "output_type": "display_data"
    }
   ],
   "source": [
    "## Original Text\n",
    "text = data[3]['text']\n",
    "display(Markdown(text))"
   ]
  },
  {
   "cell_type": "code",
   "execution_count": 135,
   "metadata": {},
   "outputs": [
    {
     "data": {
      "text/markdown": [
       " The Fund’s sub-rogation interests, to the full extent of benefits paid or due as a result of the occurrence causing the injury or illness, shall next be deducted. The Fund’s sub-rogation interest will extend to all amounts recovered irrespective of how they are denominated in the settlement of judgment. Relevant here, the Plan also provides for future medical expenses as follows:\n",
       "Section 12.3 Settlement or Recovery\n",
       "[...]\n",
       "Once a settlement is reached, additional bills cannot be submitted with respect to the same injury. The extent of her injury is disputed; Plaintiff contends that the fall left an “open wound,” but the Fund disputes this characterization, pointing to journal entries stating that it resulted in a “nice scratch.” (PL’s 56.1 ¶23; Def.’s 56.1 Resp. Relevant here, the EOBs included the following explanation for the denial: “No benefits- released—services related* to closed third party liability file” and “No further plan benefits for related illness/injury due to previous injury for which- settlement was obtained.” (Defi’s 56.1 Resp.' The spinal cord stimulating system was explanted on September 28, 2015. The Plan reviewed the letter but did not change its assessment that the Claims were “[djirectly related- to the implant placed in 2013,” and thus not covered by the Plan. In its submission to the Medical Review Institute of America, the Fund wrote that “the claimant indicates she had a fall down the stairs that caused the battery pack infection,” noted in uppercase, text. The spinal cord stimulator (SCS) was- implanted specifically to treat the patient’s pain that developed due to her CRPS. The Trustees denied the appeal and the Fund issued a ’final internal adverse benefit determination, which concluded that “complications from the explantation of the spinal cord stimulator (SCS) and subsequent admission to Rush University are related to the implanted SCS placed bn 9/27/13 and the motor vehicle accident (MVA) on 4/20/13.” (Pl.’s’56.1 Resp. The denial letter cites to Section 12.3 of the Plan excluding charges for the “same injury” and states that Sadowski’s personal injury attorney was warned that the Plan would pay no benefits for “injuries attributed to” the Car Accident after settlement. The denial explains that Sa-dowski “developed an infection of the implant/battery pack and on September 28, 2015 went to the Ambulatory Surgical center at Rush for removal of the Stimulator unit.... Because the charges were directly related to the implant (covered by a settled third party claim) [sic] The Claims associated with the removal of the implant and subsequent hospitalization, were denied according to section 12;3 of the plan.” (Id.) The denial relies heavily on Dr. Kit-telberger’s medical review, concluding that the injuries were “related.” (Id.) Sadowski’s attorney indicates there was a fall down the stairs which caused the infection,” but it does not address Dr. Lube-now’s letter, statements at the hospital, or Sadowski’s journal entries. Standard of Review under ERISA\n",
       "“A court reviews a plan administrator’s denial of benefits de novo unless the plan gives the administrator discretionary1 authority to determine eligibility for benefits.” Hackett v. Xerox Corp. An administrator’s determination may be arbi-. These documents are “given primary effect and strictly -enforced and plan administrators must adhere to ‘the bright-line requirement to follow plan documents in distributing benefits.’” Young v. Verizon’s Bell Atl. Where administrators “controvert the plain meaning of [an ERISA] plan, their actions are arbitrary and capricious.” Swaback v. Am. Laborers’ Pension Fund v. Heinz, 541 U.S. 739, 743, 124 S.Ct. The question before the Court is whether the Fund’s denial of Sadowski’s Claims under Section 12.3 of the Plan was arbitrary and capricious. The Fund found that “[t]he complications from the explan-tation of the spinal cord stimulator (SCS) and subsequent admission to Rush University [were] related to the implanted SCS placed on 9/27/13 and the motor vehicle accident (MVA) on 4/20/13.” (Def.’s 56.1 ¶ 20; PL’s 56.1 Resp. It is unclear whether the Fund’s denial of benefits was based on (1) its interpretation of the Plan language that the medical expenses at issue were “with respect to the same injury” because the Claims involved the spinal cord stimulator, or (2) its factual conclusion that the infection was not caused by Sadowski’s fall down the stairs, but rather by the Car Accident. “Those principles require that Plan terms be interpreted in ‘an ordinary and popular sense, as they would, be understood by a person of average intelligence and experience.’ ” Id. The ordinary and popular meaning of “same” is a narrow one, being synonymous with identical, and therefore Section 12.3’s “same injury” language is fairly read as excluding bills with respect to an “identical” “hurt or loss sustained by” Sadowski in the Car Accident. Although this Court will uphold an administrator’s decision if it “is based on a reasonable explanation of relevant plan documents,” an interpretation that contradicts the plain meaning of a Plan’s language does not meet this threshold. The Plan’s “same injur/’ language necessarily excludes a separate, independent injury from the exclusion provision. Injuries resulting from two separate, independent events are mot reasonably read as the “same.” See, Schane v. Int’l Bhd. He settled a worker’s compensation claim and a third-party claim related to the car accident. The administrator denied the plaintiffs claim for benefits based on the plan’s workers’ compensation exclusion. The plain meaning, of Section 12.3’s “same injury” language is to exclude medical expenses causally related to the Car Accident. Laborers’ Pension Fund, 541 U.S. at 743, 124 S.Ct. subsequent, inde pendent injury, that affected Sadowski’s spinal cord stimulator. This reads “same injury” far too broadly. The Fund’s denial will be upheld if it “offer[s] a reasoned explanation, based on the evidence, for a particular outcome.” Edwards, 639 F.3d at 360 (quoting Hess, 274 F.3d at 461). In the face of this evidentiary record, the Fund argues that the evidence “does not mandate a conclusion that the fall was the sole cause of the infection.” (See, Def.’s Mem. The Fund must “articulate a rational connection” between the evidence and its determination that the Car Accident caused the infection rather than her fall. The Fund “admits that [Sadowski] slipped and fell down the stairs” approximately a month before the surgery. The Fund “admits that Ms. Sadowski’s husband told an admitting physician about ‘possibly minor trauma to the area prior to the onset of fevers and pain’” during Sadowski’s admission to Rush University’s Intensive Care Unit, as recorded in contemporaneous medical records. On the face of his report, the expert’s reasoning does not rely on medical evidence. The Fund’s conclusion that the infection was caused by the Car Accident several years prior—given the evidence provided by Sadowski, the lack of evidence to the contrary, and the insufficient reasoning underpinning Dr. Kittelberger’s report— fails to “offer a reasoned explanation, based on the evidence, for a particular outcome.” Edwards, 639 F.3d at 360 (quoting Hess, 274 F.3d at 461). After considering all of the evidence before the Fund’s Trustees, the Fund’s decision that Sadow-ski’s Claims were caused by the Car Accident was arbitrary and capricious. ⅜ ⅝\n",
       "In sum, the Fund acted arbitrarily and capriciously by interpreting the Plan’s “same injury” language to include medical expenses caused by a separate, independent injury and/or by failing to provide a rational basis for rejecting Sadowski’s factual evidence concerning the cause of the infection. Public policy supports this Court’s conclusion. It is unlikely that future injuries to Sadowski’s spinal cord stimulator caused by a separate, independent injury would reach the threshold of “reasonably certain[ty]” required for an award of damages against the car accident tort-feasor."
      ],
      "text/plain": [
       "<IPython.core.display.Markdown object>"
      ]
     },
     "metadata": {},
     "output_type": "display_data"
    }
   ],
   "source": [
    "x = case_summary(text)\n",
    "display(Markdown(x))"
   ]
  },
  {
   "cell_type": "code",
   "execution_count": 131,
   "metadata": {},
   "outputs": [],
   "source": [
    "n_feats = 5000\n",
    "doc_by_vocab = np.empty([len(data), n_feats])\n",
    "\n",
    "def build_vectorizer(max_features, stop_words, max_df=0.8, min_df=10, norm='l2'):\n",
    "    \"\"\"Returns a TfidfVectorizer object with the above preprocessing properties.\n",
    "    \n",
    "    Note: This function may log a deprecation warning. This is normal, and you\n",
    "    can simply ignore it.\n",
    "    \n",
    "    Params: {max_features: Integer,\n",
    "             max_df: Float,\n",
    "             min_df: Float,\n",
    "             norm: String,\n",
    "             stop_words: String}\n",
    "    Returns: TfidfVectorizer\n",
    "    \"\"\"\n",
    "    # YOUR CODE HERE\n",
    "    vectorizer = TfidfVectorizer(max_features = max_features, stop_words = stop_words, min_df = min_df, max_df = max_df, norm = norm)\n",
    "    return vectorizer"
   ]
  },
  {
   "cell_type": "code",
   "execution_count": null,
   "metadata": {},
   "outputs": [],
   "source": []
  }
 ],
 "metadata": {
  "kernelspec": {
   "display_name": "Python 3",
   "language": "python",
   "name": "python3"
  },
  "language_info": {
   "codemirror_mode": {
    "name": "ipython",
    "version": 3
   },
   "file_extension": ".py",
   "mimetype": "text/x-python",
   "name": "python",
   "nbconvert_exporter": "python",
   "pygments_lexer": "ipython3",
   "version": "3.8.2"
  }
 },
 "nbformat": 4,
 "nbformat_minor": 4
}
